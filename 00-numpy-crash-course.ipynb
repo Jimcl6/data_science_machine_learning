{
 "cells": [
  {
   "cell_type": "code",
   "execution_count": 234,
   "id": "6d1f862f",
   "metadata": {},
   "outputs": [],
   "source": [
    "import numpy as np"
   ]
  },
  {
   "cell_type": "code",
   "execution_count": 235,
   "id": "1ced3cb9",
   "metadata": {},
   "outputs": [],
   "source": [
    "arr = np.arange(0,11)"
   ]
  },
  {
   "cell_type": "code",
   "execution_count": 236,
   "id": "2e506392",
   "metadata": {},
   "outputs": [
    {
     "data": {
      "text/plain": [
       "array([ 0,  1,  2,  3,  4,  5,  6,  7,  8,  9, 10])"
      ]
     },
     "execution_count": 236,
     "metadata": {},
     "output_type": "execute_result"
    }
   ],
   "source": [
    "arr"
   ]
  },
  {
   "cell_type": "code",
   "execution_count": 237,
   "id": "7e2bad64",
   "metadata": {},
   "outputs": [
    {
     "data": {
      "text/plain": [
       "np.int64(8)"
      ]
     },
     "execution_count": 237,
     "metadata": {},
     "output_type": "execute_result"
    }
   ],
   "source": [
    "arr[8]"
   ]
  },
  {
   "cell_type": "code",
   "execution_count": 238,
   "id": "1ce86852",
   "metadata": {},
   "outputs": [
    {
     "data": {
      "text/plain": [
       "array([1, 2, 3, 4])"
      ]
     },
     "execution_count": 238,
     "metadata": {},
     "output_type": "execute_result"
    }
   ],
   "source": [
    "arr[1:5]"
   ]
  },
  {
   "cell_type": "code",
   "execution_count": 239,
   "id": "1cc6958f",
   "metadata": {},
   "outputs": [
    {
     "data": {
      "text/plain": [
       "array([0, 1, 2, 3, 4])"
      ]
     },
     "execution_count": 239,
     "metadata": {},
     "output_type": "execute_result"
    }
   ],
   "source": [
    "arr[:5]"
   ]
  },
  {
   "cell_type": "code",
   "execution_count": 240,
   "id": "db597345",
   "metadata": {},
   "outputs": [
    {
     "data": {
      "text/plain": [
       "array([ 0,  1,  2,  3,  4,  5,  6,  7,  8,  9, 10])"
      ]
     },
     "execution_count": 240,
     "metadata": {},
     "output_type": "execute_result"
    }
   ],
   "source": [
    "arr[0:]"
   ]
  },
  {
   "cell_type": "code",
   "execution_count": 241,
   "id": "0e4c2ab6",
   "metadata": {},
   "outputs": [],
   "source": [
    "# Broadcasting\n",
    "arr[0:5] = 100\n",
    " "
   ]
  },
  {
   "cell_type": "code",
   "execution_count": 242,
   "id": "69c75092",
   "metadata": {},
   "outputs": [
    {
     "data": {
      "text/plain": [
       "array([100, 100, 100, 100, 100,   5,   6,   7,   8,   9,  10])"
      ]
     },
     "execution_count": 242,
     "metadata": {},
     "output_type": "execute_result"
    }
   ],
   "source": [
    "arr\n",
    "\n",
    "# In this example, what we've done with broadcasting is that we've replaced the first 5 indeces with the value of \"100\""
   ]
  },
  {
   "cell_type": "code",
   "execution_count": 243,
   "id": "63cdda3c",
   "metadata": {},
   "outputs": [],
   "source": [
    "arr = np.arange(0,11)"
   ]
  },
  {
   "cell_type": "code",
   "execution_count": 244,
   "id": "0a935463",
   "metadata": {},
   "outputs": [],
   "source": [
    "slice_of_arr = arr[0:5]"
   ]
  },
  {
   "cell_type": "code",
   "execution_count": 245,
   "id": "351d8df1",
   "metadata": {},
   "outputs": [],
   "source": [
    "slice_of_arr[:] = 99\n",
    "\n",
    "# What this does is that it takes the slice of array that we did beforehand, and then broadcasted the values of that slice with the number \"99\""
   ]
  },
  {
   "cell_type": "code",
   "execution_count": 246,
   "id": "0a49760a",
   "metadata": {},
   "outputs": [
    {
     "data": {
      "text/plain": [
       "array([99, 99, 99, 99, 99])"
      ]
     },
     "execution_count": 246,
     "metadata": {},
     "output_type": "execute_result"
    }
   ],
   "source": [
    "slice_of_arr"
   ]
  },
  {
   "cell_type": "code",
   "execution_count": 247,
   "id": "89e12b3d",
   "metadata": {},
   "outputs": [
    {
     "data": {
      "text/plain": [
       "array([99, 99, 99, 99, 99,  5,  6,  7,  8,  9, 10])"
      ]
     },
     "execution_count": 247,
     "metadata": {},
     "output_type": "execute_result"
    }
   ],
   "source": [
    "arr\n",
    "\n",
    "# and then here our main array takes the value of that sliced array and is then now implemented onto the current array."
   ]
  },
  {
   "cell_type": "code",
   "execution_count": 248,
   "id": "9da08d61",
   "metadata": {},
   "outputs": [],
   "source": [
    "# In order to avoid having this to happen. We can create a copy of our original array by using the .copy() function.\n",
    "\n",
    "arr_copy = arr.copy()"
   ]
  },
  {
   "cell_type": "code",
   "execution_count": 249,
   "id": "6d7443ed",
   "metadata": {},
   "outputs": [],
   "source": [
    "arr_copy[:] = 100\n",
    "\n",
    "# here is the syntax for when we reassigned the values of our array copy."
   ]
  },
  {
   "cell_type": "code",
   "execution_count": 250,
   "id": "aca6be3b",
   "metadata": {},
   "outputs": [
    {
     "data": {
      "text/plain": [
       "array([100, 100, 100, 100, 100, 100, 100, 100, 100, 100, 100])"
      ]
     },
     "execution_count": 250,
     "metadata": {},
     "output_type": "execute_result"
    }
   ],
   "source": [
    "# But here in this syntax we have the original array as is.\n",
    "\n",
    "# copy of array with new assigned values.\n",
    "arr_copy"
   ]
  },
  {
   "cell_type": "code",
   "execution_count": 251,
   "id": "ba6c3f82",
   "metadata": {},
   "outputs": [
    {
     "data": {
      "text/plain": [
       "array([99, 99, 99, 99, 99,  5,  6,  7,  8,  9, 10])"
      ]
     },
     "execution_count": 251,
     "metadata": {},
     "output_type": "execute_result"
    }
   ],
   "source": [
    "# Here is our original array.\n",
    "arr"
   ]
  },
  {
   "cell_type": "code",
   "execution_count": 252,
   "id": "31fac257",
   "metadata": {},
   "outputs": [],
   "source": [
    "arr_2d = np.array([[5, 10, 15],[20, 25, 30],[5, 10, 15]])"
   ]
  },
  {
   "cell_type": "code",
   "execution_count": 253,
   "id": "af08be21",
   "metadata": {},
   "outputs": [
    {
     "data": {
      "text/plain": [
       "(3, 3)"
      ]
     },
     "execution_count": 253,
     "metadata": {},
     "output_type": "execute_result"
    }
   ],
   "source": [
    "arr_2d.shape"
   ]
  },
  {
   "cell_type": "code",
   "execution_count": 254,
   "id": "669c8116",
   "metadata": {},
   "outputs": [
    {
     "data": {
      "text/plain": [
       "3"
      ]
     },
     "execution_count": 254,
     "metadata": {},
     "output_type": "execute_result"
    }
   ],
   "source": [
    "arr_2d.shape[0]"
   ]
  },
  {
   "cell_type": "code",
   "execution_count": 255,
   "id": "240965ec",
   "metadata": {},
   "outputs": [
    {
     "data": {
      "text/plain": [
       "array([[10, 15],\n",
       "       [25, 30]])"
      ]
     },
     "execution_count": 255,
     "metadata": {},
     "output_type": "execute_result"
    }
   ],
   "source": [
    "arr_2d[:2,1:]"
   ]
  },
  {
   "cell_type": "code",
   "execution_count": 256,
   "id": "f7912829",
   "metadata": {},
   "outputs": [],
   "source": [
    "# conditional selection\n",
    "\n",
    "arr = np.arange(1, 11)"
   ]
  },
  {
   "cell_type": "code",
   "execution_count": 257,
   "id": "b3b6ec87",
   "metadata": {},
   "outputs": [
    {
     "data": {
      "text/plain": [
       "array([ 1,  2,  3,  4,  5,  6,  7,  8,  9, 10])"
      ]
     },
     "execution_count": 257,
     "metadata": {},
     "output_type": "execute_result"
    }
   ],
   "source": [
    "arr"
   ]
  },
  {
   "cell_type": "code",
   "execution_count": 258,
   "id": "8f4490b4",
   "metadata": {},
   "outputs": [
    {
     "data": {
      "text/plain": [
       "array([False, False, False, False,  True,  True,  True,  True,  True,\n",
       "        True])"
      ]
     },
     "execution_count": 258,
     "metadata": {},
     "output_type": "execute_result"
    }
   ],
   "source": [
    "arr > 4\n",
    "\n",
    "# this codeblock will check our array for values that are greater than \"4\", if it is it wil convert the values in our array to boolean values.\n",
    "# Hence, returning the following output:\n",
    "\n",
    "# array([False, False, False, False,  True,  True,  True,  True,  True, True])\n",
    "# In this case, any number that is lower than \"4\", will convert the value to \"False\", and if the value of our array is greater than \"4\", it will convert the value to True."
   ]
  },
  {
   "cell_type": "code",
   "execution_count": 259,
   "id": "fecf7d84",
   "metadata": {},
   "outputs": [],
   "source": [
    "# if we want to get the values that were all turned to \"True\" use the following codeblock:\n",
    "\n",
    "bool_arr = arr>4"
   ]
  },
  {
   "cell_type": "code",
   "execution_count": 260,
   "id": "e3dc68fb",
   "metadata": {},
   "outputs": [
    {
     "data": {
      "text/plain": [
       "array([False, False, False, False,  True,  True,  True,  True,  True,\n",
       "        True])"
      ]
     },
     "execution_count": 260,
     "metadata": {},
     "output_type": "execute_result"
    }
   ],
   "source": [
    "bool_arr"
   ]
  },
  {
   "cell_type": "code",
   "execution_count": null,
   "id": "1069e927",
   "metadata": {},
   "outputs": [
    {
     "data": {
      "text/plain": [
       "array([ 5,  6,  7,  8,  9, 10])"
      ]
     },
     "execution_count": 262,
     "metadata": {},
     "output_type": "execute_result"
    }
   ],
   "source": [
    "arr[bool_arr]\n",
    "\n",
    "# end of codeblock\n",
    " \n",
    "# Here by using the original array(since this contains the numeric values of the bool_arr), and by using the bool_arr variable to return us the\n",
    "# numeric values of the original array variable. Hence displaying the following output.\n",
    "\n",
    "# array([ 5,  6,  7,  8,  9, 10])"
   ]
  }
 ],
 "metadata": {
  "kernelspec": {
   "display_name": "Python 3",
   "language": "python",
   "name": "python3"
  },
  "language_info": {
   "codemirror_mode": {
    "name": "ipython",
    "version": 3
   },
   "file_extension": ".py",
   "mimetype": "text/x-python",
   "name": "python",
   "nbconvert_exporter": "python",
   "pygments_lexer": "ipython3",
   "version": "3.13.1"
  }
 },
 "nbformat": 4,
 "nbformat_minor": 5
}
